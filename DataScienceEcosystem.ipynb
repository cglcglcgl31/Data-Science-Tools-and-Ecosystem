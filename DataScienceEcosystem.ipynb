{
 "cells": [
  {
   "cell_type": "markdown",
   "id": "00a0a76c",
   "metadata": {},
   "source": [
    "# Data Science Tools and Ecosystem"
   ]
  },
  {
   "cell_type": "markdown",
   "id": "8cfede1c",
   "metadata": {},
   "source": [
    "In this notebook, Data Science Tools and Ecosystem are summarized."
   ]
  },
  {
   "cell_type": "markdown",
   "id": "7539229f",
   "metadata": {},
   "source": [
    "Some of the popular languages that Data Scientists use are:\n",
    "\n",
    "1. Python\n",
    "2. SQL\n",
    "3. Julia\n",
    "4. R"
   ]
  },
  {
   "cell_type": "markdown",
   "id": "63ecccf6",
   "metadata": {},
   "source": [
    "Some of the commonly used libraries used by Data Scientists include:\n",
    "\n",
    "1. Numpy\n",
    "2. Pandas\n",
    "3. Scikit-learn\n",
    "4. Pytorch\n",
    "5. Tensor Flow"
   ]
  },
  {
   "cell_type": "markdown",
   "id": "9407fd41",
   "metadata": {},
   "source": [
    "## Data Science Tools"
   ]
  },
  {
   "cell_type": "raw",
   "id": "c1a7e37b",
   "metadata": {},
   "source": [
    "Jupiter Notebook"
   ]
  },
  {
   "cell_type": "raw",
   "id": "a864b21d",
   "metadata": {},
   "source": [
    "R Studios"
   ]
  },
  {
   "cell_type": "raw",
   "id": "82c86add",
   "metadata": {},
   "source": [
    "Apache Zeppelin"
   ]
  },
  {
   "cell_type": "markdown",
   "id": "08568041",
   "metadata": {},
   "source": [
    "### Below are a few examples of evaluating arithmetic expressions in Python"
   ]
  },
  {
   "cell_type": "code",
   "execution_count": null,
   "id": "cd77d5e4",
   "metadata": {},
   "outputs": [],
   "source": [
    "This a simple arithmetic expression to mutiply then add integers."
   ]
  },
  {
   "cell_type": "code",
   "execution_count": 1,
   "id": "5cce8e59",
   "metadata": {},
   "outputs": [
    {
     "data": {
      "text/plain": [
       "17"
      ]
     },
     "execution_count": 1,
     "metadata": {},
     "output_type": "execute_result"
    }
   ],
   "source": [
    "(3*4)+5"
   ]
  },
  {
   "cell_type": "code",
   "execution_count": null,
   "id": "45ef54b5",
   "metadata": {},
   "outputs": [],
   "source": [
    "# This will convert 200 minutes to hours by diving by 60"
   ]
  },
  {
   "cell_type": "code",
   "execution_count": 10,
   "id": "34813d87",
   "metadata": {
    "scrolled": true
   },
   "outputs": [
    {
     "name": "stdout",
     "output_type": "stream",
     "text": [
      "3\n"
     ]
    }
   ],
   "source": [
    "dakika = 200\n",
    "saat = dakika // 60\n",
    "print(saat)"
   ]
  },
  {
   "cell_type": "markdown",
   "id": "10300093",
   "metadata": {},
   "source": [
    "## Objectives:"
   ]
  },
  {
   "cell_type": "markdown",
   "id": "55ba3aea",
   "metadata": {},
   "source": [
    "-Data Exploration and Analyses"
   ]
  },
  {
   "cell_type": "markdown",
   "id": "ee53e154",
   "metadata": {},
   "source": [
    "-Machine Learning"
   ]
  },
  {
   "cell_type": "markdown",
   "id": "6f3d2df5",
   "metadata": {},
   "source": [
    "-Modelling"
   ]
  },
  {
   "cell_type": "markdown",
   "id": "2a29c0df",
   "metadata": {},
   "source": [
    "## Author"
   ]
  },
  {
   "cell_type": "markdown",
   "id": "b74ba7db",
   "metadata": {},
   "source": [
    "Oğuz ÇAĞALA"
   ]
  }
 ],
 "metadata": {
  "kernelspec": {
   "display_name": "Python 3 (ipykernel)",
   "language": "python",
   "name": "python3"
  },
  "language_info": {
   "codemirror_mode": {
    "name": "ipython",
    "version": 3
   },
   "file_extension": ".py",
   "mimetype": "text/x-python",
   "name": "python",
   "nbconvert_exporter": "python",
   "pygments_lexer": "ipython3",
   "version": "3.10.9"
  }
 },
 "nbformat": 4,
 "nbformat_minor": 5
}
